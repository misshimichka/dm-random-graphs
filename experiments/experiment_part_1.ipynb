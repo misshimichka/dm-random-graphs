{
 "cells": [
  {
   "cell_type": "code",
   "execution_count": 1,
   "id": "5000882b",
   "metadata": {},
   "outputs": [],
   "source": [
    "import numpy as np\n",
    "import matplotlib.pyplot as plt\n",
    "\n",
    "from tqdm import tqdm\n",
    "\n",
    "from src.utils import \\\n",
    "    build_knn_graph, \\\n",
    "    generate_a, \\\n",
    "    generate_h\n",
    "\n",
    "from src.characteristics import \\\n",
    "    calculate_triangles, \\\n",
    "    calculate_chromatic_number\n",
    "\n",
    "from src.distributions import \\\n",
    "    lognormal_distribution, \\\n",
    "    exp_distribution"
   ]
  },
  {
   "cell_type": "markdown",
   "id": "d9d0e3e1",
   "metadata": {},
   "source": [
    "## 1. Исследовать, как ведет себя числовая характеристика $\\tau$ в зависимости от параметров распределений $\\theta$ и $\\nu$, зафиксировав размер выборки и параметр процедуры построения графа.\n"
   ]
  },
  {
   "cell_type": "markdown",
   "id": "f1940277",
   "metadata": {},
   "source": [
    "### 1.1. Исследуем характеристику $\\tau^{KNN}$.\n",
    "\n",
    "Зафиксируем размер выборки $n = 50$ и количество соседей $k = 5$. Число итераций для метода Монте-Карло равно 1000."
   ]
  },
  {
   "cell_type": "markdown",
   "id": "c72ad6f1",
   "metadata": {},
   "source": [
    "#### 1.1.1. Распределение LogNormal с $\\mu$ = 0 и параметром $\\theta$."
   ]
  },
  {
   "cell_type": "code",
   "execution_count": 10,
   "id": "4b5e2aa2",
   "metadata": {},
   "outputs": [],
   "source": [
    "thetas = [0.0001, 0.0005, 0.001, 0.005, 0.01, 0.05, 0.1, 0.2, 0.3, 0.4, 0.5, 0.75, 0.9]\n",
    "n_samples = 50\n",
    "k_neighbours = 5\n",
    "n_iter = 1000"
   ]
  },
  {
   "cell_type": "code",
   "execution_count": null,
   "id": "6789e69a",
   "metadata": {},
   "outputs": [],
   "source": [
    "theta_n_triangles = []\n",
    "\n",
    "for i, theta in enumerate(tqdm(thetas)):\n",
    "    n_triangles = []\n",
    "    for _ in range(n_iter):\n",
    "        vertices = np.random.lognormal(0, theta, n_samples)\n",
    "        knn_graph = build_knn_graph(vertices, k_neighbours)\n",
    "        n_triangles.append(calculate_triangles(knn_graph))\n",
    "    \n",
    "    theta_n_triangles.append(sum(n_triangles) / n_iter)\n",
    "    \n",
    "plt.plot(thetas, theta_n_triangles, color=\"green\")\n",
    "plt.title(\"Зависимость $\\\\tau^{KNN}$ от $\\\\theta$\")\n",
    "plt.xlabel(\"Значения $\\\\theta$\")\n",
    "plt.ylabel(\"Среднее значение характеристики\")\n",
    "\n",
    "plt.show();"
   ]
  },
  {
   "cell_type": "markdown",
   "id": "3e4aacd8",
   "metadata": {},
   "source": [
    "[Визуализация](https://github.com/misshimichka/dm-random-graphs/blob/report/report/1.png).\n",
    "\n",
    "При небольших $\\theta$ среднее значение характеристики $\\tau^{KNN}$ $\\approx 190$ и растет при $\\theta \\longrightarrow 1$."
   ]
  },
  {
   "cell_type": "code",
   "execution_count": 12,
   "id": "530644a3",
   "metadata": {},
   "outputs": [],
   "source": [
    "thetas = [1, 2, 5, 10, 15, 20, 25, 30, 40, 50, 75, 100, 150, 250, 500]\n",
    "n_samples = 50\n",
    "k_neighbours = 5\n",
    "n_iter = 1000"
   ]
  },
  {
   "cell_type": "code",
   "execution_count": null,
   "id": "1e1c786e",
   "metadata": {},
   "outputs": [],
   "source": [
    "theta_n_triangles = []\n",
    "\n",
    "for i, theta in enumerate(tqdm(thetas)):\n",
    "    n_triangles = []\n",
    "    for _ in range(n_iter):\n",
    "        vertices = np.random.lognormal(0, theta, n_samples)\n",
    "        knn_graph = build_knn_graph(vertices, k_neighbours)\n",
    "        n_triangles.append(calculate_triangles(knn_graph))\n",
    "    \n",
    "    theta_n_triangles.append(sum(n_triangles) / n_iter)\n",
    "    \n",
    "plt.plot(thetas, theta_n_triangles, color=\"green\")\n",
    "plt.title(\"Зависимость $\\\\tau^{KNN}$ от $\\\\theta$\")\n",
    "plt.xlabel(\"Значения $\\\\theta$\")\n",
    "plt.ylabel(\"Среднее значение характеристики\")\n",
    "\n",
    "plt.show();"
   ]
  },
  {
   "cell_type": "markdown",
   "id": "8ead0ac9",
   "metadata": {},
   "source": [
    "[Визуализация](https://github.com/misshimichka/dm-random-graphs/blob/report/report/2.png)."
   ]
  },
  {
   "cell_type": "markdown",
   "id": "e3fbc3cf",
   "metadata": {},
   "source": [
    "#### 1.1.2. Распределение Exp с параметром $\\nu$."
   ]
  },
  {
   "cell_type": "code",
   "execution_count": 14,
   "id": "2b6d0050",
   "metadata": {},
   "outputs": [],
   "source": [
    "nus = [0.0001, 0.0005, 0.001, 0.005, 0.01, 0.05, 0.1, 0.2, 0.3, 0.4, 0.5, 0.75, 0.9]\n",
    "n_samples = 50\n",
    "k_neighbours = 5\n",
    "n_iter = 1000"
   ]
  },
  {
   "cell_type": "code",
   "execution_count": null,
   "id": "c39a534c",
   "metadata": {},
   "outputs": [],
   "source": [
    "nu_n_triangles = []\n",
    "\n",
    "for i, nu in enumerate(tqdm(nus)):\n",
    "    n_triangles = []\n",
    "    for _ in range(n_iter):\n",
    "        vertices = np.random.exponential(nu, n_samples)\n",
    "        knn_graph = build_knn_graph(vertices, k_neighbours)\n",
    "        n_triangles.append(calculate_triangles(knn_graph))\n",
    "    \n",
    "    nu_n_triangles.append(sum(n_triangles) / n_iter)\n",
    "    \n",
    "plt.plot(nus, nu_n_triangles, color=\"red\")\n",
    "plt.title(\"Зависимость $\\\\tau^{KNN}$ от $\\\\nu$\")\n",
    "plt.xlabel(\"Значения $\\\\nu$\")\n",
    "plt.ylabel(\"Среднее значение характеристики\")\n",
    "\n",
    "plt.show();"
   ]
  },
  {
   "cell_type": "markdown",
   "id": "4884969a",
   "metadata": {},
   "source": [
    "[Визуализация](https://github.com/misshimichka/dm-random-graphs/blob/report/report/3.png)."
   ]
  },
  {
   "cell_type": "code",
   "execution_count": 16,
   "id": "53ff40f8",
   "metadata": {},
   "outputs": [],
   "source": [
    "nus = [1, 2, 5, 10, 15, 20, 25, 30, 40, 50, 75, 100, 150, 250, 500]\n",
    "n_samples = 50\n",
    "k_neighbours = 5\n",
    "n_iter = 1000"
   ]
  },
  {
   "cell_type": "code",
   "execution_count": null,
   "id": "bbf76c9c",
   "metadata": {},
   "outputs": [],
   "source": [
    "nu_n_triangles = []\n",
    "\n",
    "for i, nu in enumerate(tqdm(nus)):\n",
    "    n_triangles = []\n",
    "    for _ in range(n_iter):\n",
    "        vertices = np.random.exponential(nu, n_samples)\n",
    "        knn_graph = build_knn_graph(vertices, k_neighbours)\n",
    "        n_triangles.append(calculate_triangles(knn_graph))\n",
    "    \n",
    "    nu_n_triangles.append(sum(n_triangles) / n_iter)\n",
    "    \n",
    "plt.plot(nus, nu_n_triangles, color=\"red\")\n",
    "plt.title(\"Зависимость $\\\\tau^{KNN}$ от $\\\\nu$\")\n",
    "plt.xlabel(\"Значения $\\\\nu$\")\n",
    "plt.ylabel(\"Среднее значение характеристики\")\n",
    "\n",
    "plt.show();"
   ]
  },
  {
   "cell_type": "markdown",
   "id": "f2040d54",
   "metadata": {},
   "source": [
    "[Визуализация](https://github.com/misshimichka/dm-random-graphs/blob/report/report/4.png)."
   ]
  },
  {
   "cell_type": "markdown",
   "id": "d90dba91",
   "metadata": {},
   "source": [
    "В случае экспоненциального распределения усредненная характеристика $\\tau^{KNN}$ принимает значения в некоторой окрестности 190 независимо от значения $\\nu$."
   ]
  },
  {
   "cell_type": "markdown",
   "id": "aa063170",
   "metadata": {},
   "source": [
    "### 1.2. Исследуем характеристику $\\tau^{dist}$.\n",
    "\n",
    "Зафиксируем размер выборки $n = 50$ и расстояние $dist = 5$."
   ]
  },
  {
   "cell_type": "markdown",
   "id": "633af008",
   "metadata": {},
   "source": [
    "#### 1.2.1. Распределение LogNormal с $\\mu$ = 0 и параметром $\\theta$."
   ]
  },
  {
   "cell_type": "code",
   "execution_count": 29,
   "id": "01a087a8",
   "metadata": {},
   "outputs": [],
   "source": [
    "thetas = [0.0001, 0.0005, 0.001, 0.005, 0.01, 0.05, 0.1, 0.2, 0.3, 0.4, 0.5, 0.75, 0.9]\n",
    "n_samples = 50\n",
    "dist = 5\n",
    "n_iter = 1000"
   ]
  },
  {
   "cell_type": "code",
   "execution_count": null,
   "id": "87a0114f",
   "metadata": {},
   "outputs": [],
   "source": [
    "theta_chromatic_number = []\n",
    "\n",
    "for i, theta in enumerate(tqdm(thetas)):\n",
    "    chromatic_number = []\n",
    "    for _ in range(n_iter):\n",
    "        vertices = np.random.lognormal(0, theta, n_samples)\n",
    "        chromatic_number.append(calculate_chromatic_number(vertices, dist))\n",
    "    \n",
    "    theta_chromatic_number.append(sum(chromatic_number) / n_iter)\n",
    "    \n",
    "plt.plot(thetas, theta_chromatic_number, color=\"green\")\n",
    "plt.title(\"Зависимость $\\\\tau^{dist}$ от $\\\\theta$\")\n",
    "plt.xlabel(\"Значения $\\\\theta$\")\n",
    "plt.ylabel(\"Среднее значение характеристики\")\n",
    "\n",
    "plt.show();"
   ]
  },
  {
   "cell_type": "markdown",
   "id": "61aac1af",
   "metadata": {},
   "source": [
    "[Визуализация](https://github.com/misshimichka/dm-random-graphs/blob/report/report/5.png)."
   ]
  },
  {
   "cell_type": "code",
   "execution_count": 43,
   "id": "90a60e9a",
   "metadata": {},
   "outputs": [],
   "source": [
    "thetas = [1, 2, 5, 10, 15, 20, 25, 30, 40, 50, 75, 100, 150, 250, 500, 750, 1000]\n",
    "n_samples = 50\n",
    "dist = 5\n",
    "n_iter = 1000"
   ]
  },
  {
   "cell_type": "code",
   "execution_count": null,
   "id": "1d8b1188",
   "metadata": {},
   "outputs": [],
   "source": [
    "theta_chromatic_number = []\n",
    "\n",
    "for i, theta in enumerate(tqdm(thetas)):\n",
    "    chromatic_number = []\n",
    "    for _ in range(n_iter):\n",
    "        vertices = np.random.lognormal(0, theta, n_samples)\n",
    "        chromatic_number.append(calculate_chromatic_number(vertices, dist))\n",
    "    \n",
    "    theta_chromatic_number.append(sum(chromatic_number) / n_iter)\n",
    "    \n",
    "plt.plot(thetas, theta_chromatic_number, color=\"green\")\n",
    "plt.title(\"Зависимость $\\\\tau^{dist}$ от $\\\\theta$\")\n",
    "plt.xlabel(\"Значения $\\\\theta$\")\n",
    "plt.ylabel(\"Среднее значение характеристики\")\n",
    "\n",
    "plt.show();"
   ]
  },
  {
   "cell_type": "markdown",
   "id": "4f9fa36d",
   "metadata": {},
   "source": [
    "[Визуализация](https://github.com/misshimichka/dm-random-graphs/blob/report/report/6.png)."
   ]
  },
  {
   "cell_type": "markdown",
   "id": "34f088c7",
   "metadata": {},
   "source": [
    "С увеличением $\\theta$ среднее значение характеристики $\\tau^{dist}$ уменьшается, и при $\\theta \\approx 100$ принимает значение 25. Затем на больших $\\theta$ среднее значение немного увеличивается и колеблется около 27."
   ]
  },
  {
   "cell_type": "markdown",
   "id": "50e60a67",
   "metadata": {},
   "source": [
    "#### 1.2.2. Распределение Exp с переменной $\\nu$."
   ]
  },
  {
   "cell_type": "code",
   "execution_count": 35,
   "id": "64b62873",
   "metadata": {},
   "outputs": [],
   "source": [
    "nus = [0.0001, 0.0005, 0.001, 0.005, 0.01, 0.05, 0.1, 0.2, 0.3, 0.4, 0.5, 0.75, 0.9]\n",
    "n_samples = 50\n",
    "dist = 5\n",
    "n_iter = 1000"
   ]
  },
  {
   "cell_type": "code",
   "execution_count": null,
   "id": "128bb3b1",
   "metadata": {},
   "outputs": [],
   "source": [
    "nu_chromatic_number = []\n",
    "\n",
    "for i, nu in enumerate(tqdm(nus)):\n",
    "    chromatic_number = []\n",
    "    for _ in range(n_iter):\n",
    "        vertices = np.random.exponential(nu, n_samples)\n",
    "        chromatic_number.append(calculate_chromatic_number(vertices, dist))\n",
    "    \n",
    "    nu_chromatic_number.append(sum(chromatic_number) / n_iter)\n",
    "    \n",
    "plt.plot(nus, nu_chromatic_number, color=\"red\")\n",
    "plt.title(\"Зависимость $\\\\tau^{dist}$ от $\\\\nu$\")\n",
    "plt.xlabel(\"Значения $\\\\nu$\")\n",
    "plt.ylabel(\"Среднее значение характеристики\")\n",
    "\n",
    "plt.show();"
   ]
  },
  {
   "cell_type": "markdown",
   "id": "77b12a6e",
   "metadata": {},
   "source": [
    "[Визуализация](https://github.com/misshimichka/dm-random-graphs/blob/report/report/7.png)."
   ]
  },
  {
   "cell_type": "code",
   "execution_count": 41,
   "id": "c3c91e8a",
   "metadata": {},
   "outputs": [],
   "source": [
    "nus = [1, 2, 5, 10, 15, 20, 25, 30, 40, 50, 75, 100, 150, 250, 500, 750, 1000]\n",
    "n_samples = 50\n",
    "dist = 5\n",
    "n_iter = 1000"
   ]
  },
  {
   "cell_type": "code",
   "execution_count": null,
   "id": "5d68bb47",
   "metadata": {},
   "outputs": [],
   "source": [
    "nu_chromatic_number = []\n",
    "\n",
    "for i, nu in enumerate(tqdm(nus)):\n",
    "    chromatic_number = []\n",
    "    for _ in range(n_iter):\n",
    "        vertices = np.random.exponential(nu, n_samples)\n",
    "        chromatic_number.append(calculate_chromatic_number(vertices, dist))\n",
    "    \n",
    "    nu_chromatic_number.append(sum(chromatic_number) / n_iter)\n",
    "    \n",
    "plt.plot(nus, nu_chromatic_number, color=\"red\")\n",
    "plt.title(\"Зависимость $\\\\tau^{dist}$ от $\\\\nu$\")\n",
    "plt.xlabel(\"Значения $\\\\nu$\")\n",
    "plt.ylabel(\"Среднее значение характеристики\")\n",
    "\n",
    "plt.show();"
   ]
  },
  {
   "cell_type": "markdown",
   "id": "41b6c7a2",
   "metadata": {},
   "source": [
    "[Визуализация](https://github.com/misshimichka/dm-random-graphs/blob/report/report/8.png)."
   ]
  },
  {
   "cell_type": "markdown",
   "id": "f64ea0bc",
   "metadata": {},
   "source": [
    "При больших $\\nu$ среднее значение $\\tau^{dist}$ стремится к 1. \n",
    "\n",
    "Заметим, что для экспоненциального распределения видно более резкое уменьшение значения характеристики по сравнению с lognormal распределением."
   ]
  },
  {
   "cell_type": "markdown",
   "id": "2447f50b",
   "metadata": {},
   "source": [
    "## 2. Исследовать, как ведет себя числовая характеристика $\\tau$ в зависимости от параметров процедуры построения графа и размера выборки при фиксированных значениях $\\theta_0 = 1$ и $\\nu_0 = \\frac{1}{\\sqrt{e^2 - e}}$.\n"
   ]
  },
  {
   "cell_type": "markdown",
   "id": "0f9f85d0",
   "metadata": {},
   "source": [
    "### 2.1. Исследуем характеристику $\\tau^{KNN}$."
   ]
  },
  {
   "cell_type": "markdown",
   "id": "7426b1c5",
   "metadata": {},
   "source": [
    "#### 2.1.1. Распределение LogNormal с $\\mu = 0$ и $\\theta_0 = 1$."
   ]
  },
  {
   "cell_type": "code",
   "execution_count": 2,
   "id": "2e9ff846",
   "metadata": {},
   "outputs": [],
   "source": [
    "n_samples = [1, 2, 5, 10, 15, 20, 25, 50, 75, 100, 150, 250, 500]\n",
    "k_neighbours = [1, 2, 3, 5, 10, 15, 20, 25, 50]\n",
    "n_iter = 1000"
   ]
  },
  {
   "cell_type": "code",
   "execution_count": null,
   "id": "e74f71f5",
   "metadata": {},
   "outputs": [],
   "source": [
    "figure, axis = plt.subplots(\n",
    "    nrows=len(n_samples),\n",
    "    ncols=len(k_neighbours),\n",
    "    figsize=(10 * len(n_samples),\n",
    "             10 * len(k_neighbours))\n",
    ")\n",
    "\n",
    "for i, n in enumerate(tqdm(n_samples)):\n",
    "    for j, k in enumerate(tqdm(k_neighbours)):\n",
    "        n_triangles = []\n",
    "        for _ in range(n_iter):\n",
    "            vertices = np.random.lognormal(0, 1, n)\n",
    "            knn_graph = build_knn_graph(vertices, k)\n",
    "            n_triangles.append(calculate_triangles(knn_graph))\n",
    "        \n",
    "        axis[i][j].plot(n_triangles, color=\"green\")\n",
    "        axis[i][j].set_title(f\"n_samples = {n}, k_neighbours = {k}, avg $\\\\tau^{{KNN}}$ = {sum(n_triangles) / n_iter}\")\n",
    "\n",
    "plt.show();"
   ]
  },
  {
   "cell_type": "markdown",
   "id": "313bf286",
   "metadata": {},
   "source": [
    "[Визуализация](https://github.com/misshimichka/dm-random-graphs/blob/report/report/9.png)."
   ]
  },
  {
   "cell_type": "markdown",
   "id": "8e24d238",
   "metadata": {},
   "source": [
    "#### 2.1.2. Распределение Exp c $\\nu = \\frac{1}{\\sqrt{e^2 - e}}$."
   ]
  },
  {
   "cell_type": "code",
   "execution_count": null,
   "id": "b21ce0e0",
   "metadata": {},
   "outputs": [],
   "source": [
    "n_samples = [1, 2, 5, 10, 15, 20, 25, 50, 75, 100, 150, 250, 500]\n",
    "k_neighbours = [1, 2, 3, 5, 10, 15, 20, 25, 50]\n",
    "n_iter = 1000"
   ]
  },
  {
   "cell_type": "code",
   "execution_count": null,
   "id": "11c9e019",
   "metadata": {},
   "outputs": [],
   "source": [
    "figure, axis = plt.subplots(\n",
    "    nrows=len(n_samples),\n",
    "    ncols=len(k_neighbours),\n",
    "    figsize=(10 * len(n_samples),\n",
    "             10 * len(k_neighbours))\n",
    ")\n",
    "\n",
    "for i, n in enumerate(tqdm(n_samples)):\n",
    "    for j, k in enumerate(tqdm(k_neighbours)):\n",
    "        n_triangles = []\n",
    "        for _ in range(n_iter):\n",
    "            vertices = np.random.exponential(1 / np.sqrt(np.e * np.e - np.e), n)\n",
    "            knn_graph = build_knn_graph(vertices, k)\n",
    "            n_triangles.append(calculate_triangles(knn_graph))\n",
    "        \n",
    "        axis[i][j].plot(n_triangles, color=\"red\")\n",
    "        axis[i][j].set_title(f\"n_samples = {n}, k_neighbours = {k}, avg $\\\\tau^{{KNN}}$ = {sum(n_triangles) / n_iter}\")\n",
    "\n",
    "plt.show();"
   ]
  },
  {
   "cell_type": "markdown",
   "id": "fc4c2d5e",
   "metadata": {},
   "source": [
    "[Визуализация](https://github.com/misshimichka/dm-random-graphs/blob/report/report/10.png)."
   ]
  },
  {
   "cell_type": "code",
   "execution_count": null,
   "id": "3e063b5c",
   "metadata": {},
   "outputs": [],
   "source": [
    "n_samples = [1, 2, 5, 10, 15, 20, 25, 50, 75, 100, 150, 250, 500]\n",
    "k_neighbours = [1, 2, 3, 5, 10, 15, 20, 25, 50]\n",
    "n_iter = 1000"
   ]
  },
  {
   "cell_type": "code",
   "execution_count": null,
   "id": "30d6ae99",
   "metadata": {},
   "outputs": [],
   "source": [
    "figure, axis = plt.subplots(\n",
    "    nrows=len(k_neighbours),\n",
    "    ncols=1,\n",
    "    figsize=(10, 10 * len(k_neighbours))\n",
    ")\n",
    "\n",
    "for i, k in enumerate(tqdm(k_neighbours)):\n",
    "    n_triangles_lognormal = []\n",
    "    n_triangles_exp = []\n",
    "    for j, n in enumerate(tqdm(n_samples)):\n",
    "        avg_n_triangles_1 = []\n",
    "        avg_n_triangles_2 = []\n",
    "        for _ in range(n_iter):\n",
    "            vertices = np.random.lognormal(0, 1, n)\n",
    "            knn_graph = build_knn_graph(vertices, k)\n",
    "            avg_n_triangles_1.append(calculate_triangles(knn_graph))\n",
    "\n",
    "            vertices = np.random.exponential(1 / np.sqrt(np.e * np.e - np.e), n)\n",
    "            knn_graph = build_knn_graph(vertices, k)\n",
    "            avg_n_triangles_2.append(calculate_triangles(knn_graph))\n",
    "        \n",
    "        n_triangles_lognormal.append(sum(avg_n_triangles_1) / n_iter)\n",
    "        n_triangles_exp.append(sum(avg_n_triangles_2) / n_iter)\n",
    "        \n",
    "    axis[i].plot(n_samples, n_triangles_lognormal, color=\"green\", label=\"lognormal\")\n",
    "    axis[i].plot(n_samples, n_triangles_exp, color=\"red\", label=\"exponential\")\n",
    "    axis[i].set_title(f\"k_neighbours = {k}\")\n",
    "    axis[i].set_xlabel(\"Размер выборки\")\n",
    "    axis[i].set_ylabel(\"Среднее значение числа треугольников в KNN-графе\")\n",
    "    axis[i].legend([\"LogNormal(0, 1)\", \"Exp($\\\\frac{1}{\\\\sqrt{e^2 - e}}$)\"])\n",
    "\n",
    "plt.show();"
   ]
  },
  {
   "cell_type": "markdown",
   "id": "766cb563",
   "metadata": {},
   "source": [
    "[Визуализация](https://github.com/misshimichka/dm-random-graphs/blob/report/report/11.png)."
   ]
  },
  {
   "cell_type": "markdown",
   "id": "790d686b",
   "metadata": {},
   "source": [
    "Пара замечаний тут:\n",
    "- $\\tau^{KNN}$ для Exp распределения растет медленнее, чем для LogNormal распределения.\n",
    "- Стоит посмотреть на значения характеристики при бОльших размерах выборки (еще не смотрела).\n",
    "\n",
    "Возможно, еще добавлю замечания тут."
   ]
  },
  {
   "cell_type": "markdown",
   "id": "1f5cc0f3",
   "metadata": {},
   "source": [
    "### 2.2. Исследуем характеристику $\\tau^{dist}$."
   ]
  },
  {
   "cell_type": "markdown",
   "id": "931e5301",
   "metadata": {},
   "source": [
    "#### 2.2.1. Распределение LogNormal с $\\mu$ = 0 и $\\theta = 1$."
   ]
  },
  {
   "cell_type": "code",
   "execution_count": null,
   "id": "5f951072",
   "metadata": {},
   "outputs": [],
   "source": [
    "n_samples = [1, 2, 5, 10, 15, 20, 25, 50, 100, 150, 200, 500]\n",
    "dist = [0.0001, 0.001, 0.01, 0.1, 1, 2, 3, 5, 10, 25, 50, 100]\n",
    "n_iter = 1000"
   ]
  },
  {
   "cell_type": "code",
   "execution_count": null,
   "id": "fef3d4da",
   "metadata": {},
   "outputs": [],
   "source": [
    "figure, axis = plt.subplots(\n",
    "    nrows=len(n_samples),\n",
    "    ncols=len(dist),\n",
    "    figsize=(10 * len(n_samples),\n",
    "             10 * len(dist))\n",
    ")\n",
    "\n",
    "for i, n in enumerate(tqdm(n_samples)):\n",
    "    for j, k in enumerate(tqdm(dist)):\n",
    "        chromatic_number = []\n",
    "        for _ in range(n_iter):\n",
    "            vertices = np.random.lognormal(0, 1, n)\n",
    "            chromatic_number.append(calculate_chromatic_number(vertices, k))\n",
    "        \n",
    "        axis[i][j].plot(chromatic_number, color=\"green\")\n",
    "        axis[i][j].set_title(f\"n_samples = {n}, dist = {k}, avg $\\\\tau^{{dist}}$ = {sum(chromatic_number) / n_iter}\")\n",
    "\n",
    "plt.show();"
   ]
  },
  {
   "cell_type": "markdown",
   "id": "af34c5e3",
   "metadata": {},
   "source": [
    "[Визуализация](https://github.com/misshimichka/dm-random-graphs/blob/report/report/12.png)."
   ]
  },
  {
   "cell_type": "markdown",
   "id": "1a6a1a61",
   "metadata": {},
   "source": [
    "#### 2.2.2. Распределение Exp c $\\nu = \\frac{1}{\\sqrt{e^2 - e}}$."
   ]
  },
  {
   "cell_type": "code",
   "execution_count": 30,
   "id": "a9d0a42d",
   "metadata": {},
   "outputs": [],
   "source": [
    "n_samples = [1, 2, 5, 10, 15, 20, 25, 50, 100, 150, 200, 500]\n",
    "dist = [0.0001, 0.001, 0.01, 0.1, 1, 2, 3, 5, 10, 25, 50, 100]\n",
    "n_iter = 1000"
   ]
  },
  {
   "cell_type": "code",
   "execution_count": null,
   "id": "06387ed4",
   "metadata": {},
   "outputs": [],
   "source": [
    "figure, axis = plt.subplots(\n",
    "    nrows=len(n_samples),\n",
    "    ncols=len(dist),\n",
    "    figsize=(10 * len(n_samples),\n",
    "             10 * len(dist))\n",
    ")\n",
    "\n",
    "for i, n in enumerate(tqdm(n_samples)):\n",
    "    for j, k in enumerate(tqdm(dist)):\n",
    "        chromatic_number = []\n",
    "        for _ in range(n_iter):\n",
    "            vertices = np.random.exponential(1 / np.sqrt(np.e * np.e - np.e), n)\n",
    "            chromatic_number.append(calculate_chromatic_number(vertices, k))\n",
    "        \n",
    "        axis[i][j].plot(chromatic_number, color=\"red\")\n",
    "        axis[i][j].set_title(f\"n_samples = {n}, dist = {k}, avg $\\\\tau^{{dist}}$ = {sum(chromatic_number) / n_iter}\")\n",
    "\n",
    "plt.show();"
   ]
  },
  {
   "cell_type": "markdown",
   "id": "984c20e2",
   "metadata": {},
   "source": [
    "[Визуализация](https://github.com/misshimichka/dm-random-graphs/blob/report/report/13.png)."
   ]
  },
  {
   "cell_type": "markdown",
   "id": "63274942",
   "metadata": {},
   "source": [
    "Пара замечаний тут:\n",
    "- $\\tau^{dist}$ для Exp распределения растет быстрее, чем для LogNormal распределения.\n",
    "- $dist \\ge 50$ можно не рассматривать, т.к. для обоих распределений характеристика показывает одинаковое значение (хроматическое число равно числу вершин).\n",
    "- есть подозрение, что если $\\tau^{dist} \\ne n$, где $n$ -- число вершин в графе при $dist \\in [5, 50]$, то очень вероятно, что этот граф был построен на реализациях случайной величины lognormal распределения (опа, идея для критерия).\n",
    "- пока что $\\tau^{dist}$ рассматривать и изучать приятнее/проще, чем $\\tau^{KNN}$."
   ]
  },
  {
   "cell_type": "markdown",
   "id": "2e09a7e4",
   "metadata": {},
   "source": [
    "Для более видимого различия между характеристикой для разных распределений я построю график роста среднего значения характеристики при различном размере выборки $n$ и фиксированном пороге расстояния $dist$."
   ]
  },
  {
   "cell_type": "code",
   "execution_count": null,
   "id": "092260ea",
   "metadata": {},
   "outputs": [],
   "source": [
    "n_samples = [1, 2, 5, 10, 15, 20, 25, 50, 100, 150, 200, 500]\n",
    "dist = [0.0001, 0.001, 0.01, 0.1, 1, 2, 3, 5]\n",
    "n_iter = 1000"
   ]
  },
  {
   "cell_type": "code",
   "execution_count": null,
   "id": "03a0a03a",
   "metadata": {},
   "outputs": [],
   "source": [
    "figure, axis = plt.subplots(\n",
    "    nrows=len(dist),\n",
    "    ncols=1,\n",
    "    figsize=(10, 10 * len(dist))\n",
    ")\n",
    "\n",
    "for i, k in enumerate(tqdm(dist)):\n",
    "    chromatic_number_lognormal = []\n",
    "    chromatic_number_exp = []\n",
    "    for j, n in enumerate(tqdm(n_samples)):\n",
    "        avg_chromatic_number_1 = []\n",
    "        avg_chromatic_number_2 = []\n",
    "        for _ in range(n_iter):\n",
    "            vertices = np.random.lognormal(0, 1, n)\n",
    "            avg_chromatic_number_1.append(calculate_chromatic_number(vertices, k))\n",
    "\n",
    "            vertices = np.random.exponential(1 / np.sqrt(np.e * np.e - np.e), n)\n",
    "            avg_chromatic_number_2.append(calculate_chromatic_number(vertices, k))\n",
    "        \n",
    "        chromatic_number_lognormal.append(sum(avg_chromatic_number_1) / n_iter)\n",
    "        chromatic_number_exp.append(sum(avg_chromatic_number_2) / n_iter)\n",
    "        \n",
    "    axis[i].plot(n_samples, chromatic_number_lognormal, color=\"green\", label=\"lognormal\")\n",
    "    axis[i].plot(n_samples, chromatic_number_exp, color=\"red\", label=\"exponential\")\n",
    "    axis[i].set_title(f\"dist = {k}\")\n",
    "    axis[i].set_xlabel(\"Размер выборки\")\n",
    "    axis[i].set_ylabel(\"Среднее значение хроматического числа в дистанционном графе\")\n",
    "    axis[i].legend([\"LogNormal(0, 1)\", \"Exp($\\\\frac{1}{\\\\sqrt{e^2 - e}}$)\"])\n",
    "\n",
    "plt.show();"
   ]
  },
  {
   "cell_type": "markdown",
   "id": "c3fe8543",
   "metadata": {},
   "source": [
    "[Визуализация](https://github.com/misshimichka/dm-random-graphs/blob/report/report/14.png)."
   ]
  },
  {
   "cell_type": "markdown",
   "id": "e8048158",
   "metadata": {},
   "source": [
    "## 3. Построить множество A в предположении $\\theta = \\theta_0$ и $\\nu = \\nu_0$ при максимальной допустимой вероятности ошибки первого рода $\\alpha = 0.05$. Оценить мощность полученного критерия.\n"
   ]
  },
  {
   "cell_type": "markdown",
   "id": "9717be83",
   "metadata": {},
   "source": [
    "### 3.1. Характеристика $\\tau^{KNN}$."
   ]
  },
  {
   "cell_type": "markdown",
   "id": "8b9769a3",
   "metadata": {},
   "source": [
    "Сначала посмотрим на распределения характеристики."
   ]
  },
  {
   "cell_type": "code",
   "execution_count": 9,
   "id": "8982aa24",
   "metadata": {},
   "outputs": [],
   "source": [
    "n_samples = [1, 2, 5, 10, 15, 20, 25, 50, 75]\n",
    "k_neighbours = [1, 2, 3, 5, 10, 15]\n",
    "n_iter = 1000"
   ]
  },
  {
   "cell_type": "code",
   "execution_count": null,
   "id": "8e227344",
   "metadata": {},
   "outputs": [],
   "source": [
    "figure, axis = plt.subplots(\n",
    "    nrows=len(k_neighbours),\n",
    "    ncols=len(n_samples),\n",
    "    figsize=(10 * len(n_samples), 10 * len(k_neighbours))\n",
    ")\n",
    "\n",
    "for i, k in enumerate(tqdm(k_neighbours)):\n",
    "    n_triangles_lognormal = []\n",
    "    n_triangles_exp = []\n",
    "    for j, n in enumerate(tqdm(n_samples)):\n",
    "        avg_n_triangles_1 = []\n",
    "        avg_n_triangles_2 = []\n",
    "        for _ in range(n_iter):\n",
    "            vertices = np.random.lognormal(0, 1, n)\n",
    "            knn_graph = build_knn_graph(vertices, k)\n",
    "            avg_n_triangles_1.append(calculate_triangles(knn_graph))\n",
    "\n",
    "            vertices = np.random.exponential(1 / np.sqrt(np.e * np.e - np.e), n)\n",
    "            knn_graph = build_knn_graph(vertices, k)\n",
    "            avg_n_triangles_2.append(calculate_triangles(knn_graph))\n",
    "        \n",
    "        axis[i][j].scatter(avg_n_triangles_1, [i for i in range(n_iter)], color=\"green\", label=\"lognormal\")\n",
    "        axis[i][j].scatter(avg_n_triangles_2, [i for i in range(n_iter)], color=\"red\", label=\"exponential\")\n",
    "\n",
    "        axis[i][j].set_title(f\"n_samples = {n}, k_neighbours = {k}\")\n",
    "        axis[i][j].set_xlabel(\"Значение хроматического числа в KNN-графе\")\n",
    "        axis[i][j].set_ylabel(\"Число итераций\")\n",
    "        axis[i][j].legend([\"LogNormal(0, 1)\", \"Exp($\\\\frac{1}{\\\\sqrt{e^2 - e}}$)\", \"threshold\"])\n",
    "\n",
    "plt.show();"
   ]
  },
  {
   "cell_type": "markdown",
   "id": "be7177fe",
   "metadata": {},
   "source": [
    "[Визуализация](https://github.com/misshimichka/dm-random-graphs/blob/report/report/15.png)."
   ]
  },
  {
   "cell_type": "markdown",
   "id": "a3c58462",
   "metadata": {},
   "source": [
    "Видно, что распределения смешаны между собой, и невозможно определить какую-либо границу между ними. Выходит, что работать с KNN-графом довольно трудно. Посмотрим на дистанционный граф."
   ]
  },
  {
   "cell_type": "markdown",
   "id": "2b757402",
   "metadata": {},
   "source": [
    "### 3.2. Характеристика $\\tau^{dist}$."
   ]
  },
  {
   "cell_type": "code",
   "execution_count": 6,
   "id": "02e6e91e",
   "metadata": {},
   "outputs": [],
   "source": [
    "n_samples = [1, 2, 5, 10, 15, 20, 25, 50, 100, 150, 200, 500]\n",
    "dist = [0.0001, 0.001, 0.01, 0.1, 1, 2, 3, 5]\n",
    "n_iter = 1000"
   ]
  },
  {
   "cell_type": "markdown",
   "id": "962707d9",
   "metadata": {},
   "source": [
    "Сначала посмотрим на распределения характеристики."
   ]
  },
  {
   "cell_type": "code",
   "execution_count": null,
   "id": "db003219",
   "metadata": {},
   "outputs": [],
   "source": [
    "figure, axis = plt.subplots(\n",
    "    nrows=len(dist),\n",
    "    ncols=len(n_samples),\n",
    "    figsize=(10 * len(n_samples), 10 * len(dist))\n",
    ")\n",
    "\n",
    "for i, k in enumerate(tqdm(dist)):\n",
    "    chromatic_number_lognormal = []\n",
    "    chromatic_number_exp = []\n",
    "    for j, n in enumerate(tqdm(n_samples)):\n",
    "        avg_chromatic_number_1 = []\n",
    "        avg_chromatic_number_2 = []\n",
    "        for _ in range(n_iter):\n",
    "            vertices = np.random.lognormal(0, 1, n)\n",
    "            avg_chromatic_number_1.append(calculate_chromatic_number(vertices, k))\n",
    "\n",
    "            vertices = np.random.exponential(1 / np.sqrt(np.e * np.e - np.e), n)\n",
    "            avg_chromatic_number_2.append(calculate_chromatic_number(vertices, k))\n",
    "        \n",
    "        axis[i][j].scatter(avg_chromatic_number_1, [i for i in range(n_iter)], color=\"green\", label=\"lognormal\")\n",
    "        axis[i][j].scatter(avg_chromatic_number_2, [i for i in range(n_iter)], color=\"red\", label=\"exponential\")\n",
    "\n",
    "        axis[i][j].set_title(f\"n_samples = {n}, dist = {k}\")\n",
    "        axis[i][j].set_xlabel(\"Значение хроматического числа в дистанционном графе\")\n",
    "        axis[i][j].set_ylabel(\"Число итераций\")\n",
    "        axis[i][j].legend([\"LogNormal(0, 1)\", \"Exp($\\\\frac{1}{\\\\sqrt{e^2 - e}}$)\"])\n",
    "\n",
    "plt.show();"
   ]
  },
  {
   "cell_type": "markdown",
   "id": "c97b0c39",
   "metadata": {},
   "source": [
    "[Визуализация](https://github.com/misshimichka/dm-random-graphs/blob/report/report/16.png)."
   ]
  },
  {
   "cell_type": "markdown",
   "id": "09f7734e",
   "metadata": {},
   "source": [
    "А вот тут четко видна граница между двумя распределениями, особенно при бОльших размерах выборки. Построим множество $A$ (синие пунктирные линии на графике)."
   ]
  },
  {
   "cell_type": "code",
   "execution_count": null,
   "id": "7561a61f",
   "metadata": {},
   "outputs": [],
   "source": [
    "n_samples = [1, 2, 5, 10, 15, 20, 25, 50, 100, 150, 200, 500]\n",
    "dist = [0.0001, 0.001, 0.01, 0.1, 1, 2, 3, 5]\n",
    "n_iter = 1000"
   ]
  },
  {
   "cell_type": "code",
   "execution_count": null,
   "id": "7c65664e",
   "metadata": {},
   "outputs": [],
   "source": [
    "figure, axis = plt.subplots(\n",
    "    nrows=len(dist),\n",
    "    ncols=len(n_samples),\n",
    "    figsize=(10 * len(n_samples), 10 * len(dist))\n",
    ")\n",
    "\n",
    "for i, k in enumerate(tqdm(dist)):\n",
    "    chromatic_number_lognormal = []\n",
    "    chromatic_number_exp = []\n",
    "    for j, n in enumerate(tqdm(n_samples)):\n",
    "        h0 = generate_h(\n",
    "            distr=lognormal_distribution,\n",
    "            param=1,\n",
    "            n_samples=n_iter,\n",
    "            sample_size=n\n",
    "        )\n",
    "\n",
    "        h1 = generate_h(\n",
    "            distr=exp_distribution,\n",
    "            param=1 / np.sqrt(np.e * np.e - np.e),\n",
    "            n_samples=n_iter,\n",
    "            sample_size=n\n",
    "        )\n",
    "        \n",
    "        threshold_set, power, error = generate_a(\n",
    "            h0_samples=h0,\n",
    "            h1_samples=h1,\n",
    "            calculation=calculate_chromatic_number,\n",
    "            graph_type=\"dist\",\n",
    "            graph_param=k,\n",
    "            alpha=0.05\n",
    "        )\n",
    "\n",
    "        t_h0 = [calculate_chromatic_number(sample, k) for sample in h0]\n",
    "        t_h1 = [calculate_chromatic_number(sample, k) for sample in h1]\n",
    "        \n",
    "        axis[i][j].scatter(t_h0, [i for i in range(n_iter)], color=\"green\", label=\"lognormal\")\n",
    "        axis[i][j].scatter(t_h1, [i for i in range(n_iter)], color=\"red\", label=\"exponential\")\n",
    "\n",
    "        for threshold_value in threshold_set:\n",
    "            axis[i][j].axvline(x=threshold_value, color='blue', linestyle='--', linewidth=2, label=\"threshold\")\n",
    "\n",
    "        axis[i][j].set_title(f\"n_samples = {n}, dist = {k}, мощность: {power:.3f}, ошибка: {error:.3f}\")\n",
    "        axis[i][j].set_xlabel(\"Значение хроматического числа в дистанционном графе\")\n",
    "        axis[i][j].set_ylabel(\"Число итераций\")\n",
    "        axis[i][j].legend([\"LogNormal(0, 1)\", \"Exp($\\\\frac{1}{\\\\sqrt{e^2 - e}}$)\"])\n",
    "\n",
    "plt.show();"
   ]
  },
  {
   "cell_type": "markdown",
   "id": "9aeb6c3b",
   "metadata": {},
   "source": [
    "[Визуализация](https://github.com/misshimichka/dm-random-graphs/blob/report/report/17.png)."
   ]
  },
  {
   "cell_type": "markdown",
   "id": "db059ae7",
   "metadata": {},
   "source": [
    "Видно, что при увеличении $dist$ и размера выборки граница между двумя распределениями становится более явной. И даже есть примеры, когда мощность максимальна и равна 1.\n",
    "Однако при небольших размерах выборки и маленьких $dist$ распределения довольно трудно различимы. Ошибка в таких случаях больше заданного $\\alpha = 0.05$.\n",
    "\n",
    "Вывод: если дана выборка достаточного размера, то при выборе правильного $dist$ ($\\approx 2, 3, 5$) можно построить дистанционный граф так, что по хроматическому числу этого графа будет возможно определить исходное распределение."
   ]
  }
 ],
 "metadata": {
  "kernelspec": {
   "display_name": "Python 3",
   "language": "python",
   "name": "python3"
  },
  "language_info": {
   "codemirror_mode": {
    "name": "ipython",
    "version": 3
   },
   "file_extension": ".py",
   "mimetype": "text/x-python",
   "name": "python",
   "nbconvert_exporter": "python",
   "pygments_lexer": "ipython3",
   "version": "3.10.12"
  }
 },
 "nbformat": 4,
 "nbformat_minor": 5
}
